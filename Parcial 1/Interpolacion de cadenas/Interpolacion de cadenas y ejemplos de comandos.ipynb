{
 "cells": [
  {
   "cell_type": "code",
   "execution_count": 4,
   "id": "50719fb4",
   "metadata": {
    "scrolled": true
   },
   "outputs": [
    {
     "name": "stdout",
     "output_type": "stream",
     "text": [
      "hola Alex tienes 18 años\n"
     ]
    }
   ],
   "source": [
    "#interpolacion de cadenas\n",
    "\n",
    "name = \"Alex\"\n",
    "edad = 18\n",
    "print(\"hola\",name,\"tienes\",edad,\"años\")"
   ]
  },
  {
   "cell_type": "code",
   "execution_count": 5,
   "id": "0a5f5383",
   "metadata": {},
   "outputs": [
    {
     "data": {
      "text/plain": [
       "'hola Alex, tienes 18 años'"
      ]
     },
     "execution_count": 5,
     "metadata": {},
     "output_type": "execute_result"
    }
   ],
   "source": [
    "#fStrings\n",
    "mensaje = f\"hola {name}, tienes {edad} años\"\n",
    "mensaje"
   ]
  },
  {
   "cell_type": "code",
   "execution_count": 6,
   "id": "e6ee8b7a",
   "metadata": {},
   "outputs": [
    {
     "name": "stdout",
     "output_type": "stream",
     "text": [
      "hola Alex, tienes 18 años\n"
     ]
    }
   ],
   "source": [
    "print(mensaje)"
   ]
  },
  {
   "cell_type": "code",
   "execution_count": 7,
   "id": "ff18f00d",
   "metadata": {},
   "outputs": [
    {
     "name": "stdout",
     "output_type": "stream",
     "text": [
      "hola Alex, tienes 18 años\n"
     ]
    }
   ],
   "source": [
    "print(f\"hola {name}, tienes {edad} años\")"
   ]
  },
  {
   "cell_type": "code",
   "execution_count": 8,
   "id": "ee762bda",
   "metadata": {},
   "outputs": [],
   "source": [
    "def saludo():\n",
    "    print(\"Hola mundo!!\")"
   ]
  },
  {
   "cell_type": "code",
   "execution_count": 9,
   "id": "4eab4551",
   "metadata": {},
   "outputs": [
    {
     "name": "stdout",
     "output_type": "stream",
     "text": [
      "Hola mundo!!\n"
     ]
    }
   ],
   "source": [
    "saludo() #invocando la funcion"
   ]
  },
  {
   "cell_type": "code",
   "execution_count": 10,
   "id": "c1383361",
   "metadata": {},
   "outputs": [
    {
     "name": "stdout",
     "output_type": "stream",
     "text": [
      "Hola mundo!!\n"
     ]
    }
   ],
   "source": [
    "mi_funcion = saludo() #asignando la funcion"
   ]
  },
  {
   "cell_type": "code",
   "execution_count": 12,
   "id": "d01ed91a",
   "metadata": {},
   "outputs": [
    {
     "name": "stdout",
     "output_type": "stream",
     "text": [
      "None\n"
     ]
    }
   ],
   "source": [
    "print(mi_funcion)"
   ]
  },
  {
   "cell_type": "code",
   "execution_count": 13,
   "id": "f3db9a5f",
   "metadata": {},
   "outputs": [],
   "source": [
    "def saludo2():\n",
    "    return \"Hola mundo!!!\""
   ]
  },
  {
   "cell_type": "code",
   "execution_count": 14,
   "id": "4c785197",
   "metadata": {},
   "outputs": [
    {
     "data": {
      "text/plain": [
       "'Hola mundo!!!'"
      ]
     },
     "execution_count": 14,
     "metadata": {},
     "output_type": "execute_result"
    }
   ],
   "source": [
    "saludo2() #invocacion"
   ]
  },
  {
   "cell_type": "code",
   "execution_count": 15,
   "id": "afc566c1",
   "metadata": {},
   "outputs": [],
   "source": [
    "mi_funcion2 = saludo2() #asignarla"
   ]
  },
  {
   "cell_type": "code",
   "execution_count": 16,
   "id": "f7900d35",
   "metadata": {},
   "outputs": [
    {
     "name": "stdout",
     "output_type": "stream",
     "text": [
      "Hola mundo!!!\n"
     ]
    }
   ],
   "source": [
    "print(mi_funcion2)"
   ]
  },
  {
   "cell_type": "code",
   "execution_count": 17,
   "id": "4d71aaa5",
   "metadata": {},
   "outputs": [
    {
     "name": "stdout",
     "output_type": "stream",
     "text": [
      " La suma es: 5 + 10 = 15\n"
     ]
    }
   ],
   "source": [
    "a = 5\n",
    "b = 10\n",
    "res = f\" La suma es: {a} + {b} = {a + b}\"\n",
    "print(res)"
   ]
  },
  {
   "cell_type": "code",
   "execution_count": 18,
   "id": "766f92e2",
   "metadata": {},
   "outputs": [],
   "source": [
    "def suma(a,b):\n",
    "    return a+b"
   ]
  },
  {
   "cell_type": "code",
   "execution_count": 19,
   "id": "39b1826e",
   "metadata": {},
   "outputs": [
    {
     "name": "stdout",
     "output_type": "stream",
     "text": [
      "La suma es: 5 + 10 = 15\n"
     ]
    }
   ],
   "source": [
    "res = f\"La suma es: {a} + {b} = {suma(a,b)}\"\n",
    "print(res)"
   ]
  },
  {
   "cell_type": "code",
   "execution_count": 20,
   "id": "df45db4c",
   "metadata": {},
   "outputs": [
    {
     "name": "stdout",
     "output_type": "stream",
     "text": [
      "Numeros: ['uno', 'dos', 'tres']\n"
     ]
    }
   ],
   "source": [
    "lista_numeros = [\"uno\",\"dos\",\"tres\"]\n",
    "msg_numeros = f\"Numeros: {lista_numeros}\"\n",
    "print(msg_numeros)"
   ]
  },
  {
   "cell_type": "code",
   "execution_count": 22,
   "id": "128a39f1",
   "metadata": {},
   "outputs": [
    {
     "name": "stdout",
     "output_type": "stream",
     "text": [
      "Numeros: ('uno', 'dos', 'tres')\n"
     ]
    }
   ],
   "source": [
    "tupla_numeros = (\"uno\",\"dos\",\"tres\")\n",
    "msg_numeros = f\"Numeros: {tupla_numeros}\"\n",
    "print(msg_numeros)"
   ]
  },
  {
   "cell_type": "code",
   "execution_count": 23,
   "id": "0f5e982c",
   "metadata": {},
   "outputs": [
    {
     "name": "stdout",
     "output_type": "stream",
     "text": [
      "{'dos', 'tres', 'uno'}\n"
     ]
    }
   ],
   "source": [
    "set_numeros = {\"uno\",\"dos\",\"tres\",\"tres\"}\n",
    "print(set_numeros)"
   ]
  },
  {
   "cell_type": "code",
   "execution_count": 24,
   "id": "1d5234eb",
   "metadata": {},
   "outputs": [
    {
     "name": "stdout",
     "output_type": "stream",
     "text": [
      "Numeros: {'1': 'uno', '2': 'dos', '3': 'tres'}\n"
     ]
    }
   ],
   "source": [
    "dict_numeros = {\"1\":\"uno\",\"2\":\"dos\",\"3\":\"tres\"}\n",
    "msg_dict_numeros = f\"Numeros: {dict_numeros}\"\n",
    "print(msg_dict_numeros)"
   ]
  },
  {
   "cell_type": "code",
   "execution_count": 27,
   "id": "4d3fb33a",
   "metadata": {},
   "outputs": [
    {
     "name": "stdout",
     "output_type": "stream",
     "text": [
      "Numeros: dos\n"
     ]
    }
   ],
   "source": [
    "dos = f\"Numeros: {dict_numeros['2']}\"\n",
    "print(dos)"
   ]
  },
  {
   "cell_type": "code",
   "execution_count": 35,
   "id": "940565e1",
   "metadata": {},
   "outputs": [
    {
     "name": "stdout",
     "output_type": "stream",
     "text": [
      "Hola Fernando tienes 19 años\n"
     ]
    },
    {
     "data": {
      "text/plain": [
       "'\\nescriba una funcion que mediante fstrings retorne el mensaje \"hola <nombre> tienes <edad> años\".\\nlos argumentos de la funcion son: año actual, año de nacimiento, nombre\\n'"
      ]
     },
     "execution_count": 35,
     "metadata": {},
     "output_type": "execute_result"
    }
   ],
   "source": [
    "def msg(añoA:int, añoN:int, nombre:str):\n",
    "    return f\"Hola {nombre} tienes {añoA-añoN} años\"\n",
    "\n",
    "print(msg(2022,2003,\"Fernando\"))\n",
    "\n",
    "\n",
    "\"\"\"\n",
    "escriba una funcion que mediante fstrings retorne el mensaje \"hola <nombre> tienes <edad> años\".\n",
    "los argumentos de la funcion son: año actual, año de nacimiento, nombre\n",
    "\"\"\" "
   ]
  },
  {
   "cell_type": "code",
   "execution_count": 50,
   "id": "842c9edb",
   "metadata": {},
   "outputs": [
    {
     "name": "stdout",
     "output_type": "stream",
     "text": [
      "No.             Materia           Profesor  \n",
      "1    Estructura de datos          soto      \n",
      "2    Ecuaciones diferenciales     Ely       \n",
      "3    Metodos numericos            Edgar     \n",
      "4    Programacion funcional       Walter    \n"
     ]
    }
   ],
   "source": [
    "num_materia=[\"No.\",1,2,3,4]\n",
    "name_materia=[\"Materia\",\"Estructura de datos\", \"Ecuaciones diferenciales\", \"Metodos numericos\", \"Programacion funcional\"] \n",
    "name_profesor=[\"Profesor\",\"soto\",\"Ely\",\"Edgar\",\"Walter\"]\n",
    "print(f\"{num_materia[0]:<5}{name_materia[0]:^29}{name_profesor[0]:<10}\")\n",
    "for i in range(1,5):\n",
    "    print(f\"{num_materia[i]:<5}{name_materia[i]:<29}{name_profesor[i]:<10}\")"
   ]
  },
  {
   "cell_type": "code",
   "execution_count": null,
   "id": "d2532f0f",
   "metadata": {},
   "outputs": [],
   "source": []
  }
 ],
 "metadata": {
  "kernelspec": {
   "display_name": "Python 3 (ipykernel)",
   "language": "python",
   "name": "python3"
  },
  "language_info": {
   "codemirror_mode": {
    "name": "ipython",
    "version": 3
   },
   "file_extension": ".py",
   "mimetype": "text/x-python",
   "name": "python",
   "nbconvert_exporter": "python",
   "pygments_lexer": "ipython3",
   "version": "3.9.12"
  }
 },
 "nbformat": 4,
 "nbformat_minor": 5
}
